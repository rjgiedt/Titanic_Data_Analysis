{
 "cells": [
  {
   "cell_type": "markdown",
   "metadata": {},
   "source": [
    "# Kaggle Titanic Data Set"
   ]
  },
  {
   "cell_type": "code",
   "execution_count": 388,
   "metadata": {},
   "outputs": [],
   "source": [
    "# Import packages\n",
    "import pandas as pd\n",
    "import matplotlib.pyplot as plt\n",
    "import numpy as np\n",
    "import re"
   ]
  },
  {
   "cell_type": "code",
   "execution_count": 389,
   "metadata": {},
   "outputs": [
    {
     "data": {
      "text/html": [
       "<div>\n",
       "<style scoped>\n",
       "    .dataframe tbody tr th:only-of-type {\n",
       "        vertical-align: middle;\n",
       "    }\n",
       "\n",
       "    .dataframe tbody tr th {\n",
       "        vertical-align: top;\n",
       "    }\n",
       "\n",
       "    .dataframe thead th {\n",
       "        text-align: right;\n",
       "    }\n",
       "</style>\n",
       "<table border=\"1\" class=\"dataframe\">\n",
       "  <thead>\n",
       "    <tr style=\"text-align: right;\">\n",
       "      <th></th>\n",
       "      <th>Pclass</th>\n",
       "      <th>Name</th>\n",
       "      <th>Sex</th>\n",
       "      <th>Age</th>\n",
       "      <th>SibSp</th>\n",
       "      <th>Parch</th>\n",
       "      <th>Ticket</th>\n",
       "      <th>Fare</th>\n",
       "      <th>Cabin</th>\n",
       "      <th>Embarked</th>\n",
       "    </tr>\n",
       "  </thead>\n",
       "  <tbody>\n",
       "    <tr>\n",
       "      <th>0</th>\n",
       "      <td>3</td>\n",
       "      <td>Braund, Mr. Owen Harris</td>\n",
       "      <td>male</td>\n",
       "      <td>22.0</td>\n",
       "      <td>1</td>\n",
       "      <td>0</td>\n",
       "      <td>A/5 21171</td>\n",
       "      <td>7.2500</td>\n",
       "      <td>NaN</td>\n",
       "      <td>S</td>\n",
       "    </tr>\n",
       "    <tr>\n",
       "      <th>1</th>\n",
       "      <td>1</td>\n",
       "      <td>Cumings, Mrs. John Bradley (Florence Briggs Th...</td>\n",
       "      <td>female</td>\n",
       "      <td>38.0</td>\n",
       "      <td>1</td>\n",
       "      <td>0</td>\n",
       "      <td>PC 17599</td>\n",
       "      <td>71.2833</td>\n",
       "      <td>C85</td>\n",
       "      <td>C</td>\n",
       "    </tr>\n",
       "    <tr>\n",
       "      <th>2</th>\n",
       "      <td>3</td>\n",
       "      <td>Heikkinen, Miss. Laina</td>\n",
       "      <td>female</td>\n",
       "      <td>26.0</td>\n",
       "      <td>0</td>\n",
       "      <td>0</td>\n",
       "      <td>STON/O2. 3101282</td>\n",
       "      <td>7.9250</td>\n",
       "      <td>NaN</td>\n",
       "      <td>S</td>\n",
       "    </tr>\n",
       "    <tr>\n",
       "      <th>3</th>\n",
       "      <td>1</td>\n",
       "      <td>Futrelle, Mrs. Jacques Heath (Lily May Peel)</td>\n",
       "      <td>female</td>\n",
       "      <td>35.0</td>\n",
       "      <td>1</td>\n",
       "      <td>0</td>\n",
       "      <td>113803</td>\n",
       "      <td>53.1000</td>\n",
       "      <td>C123</td>\n",
       "      <td>S</td>\n",
       "    </tr>\n",
       "    <tr>\n",
       "      <th>4</th>\n",
       "      <td>3</td>\n",
       "      <td>Allen, Mr. William Henry</td>\n",
       "      <td>male</td>\n",
       "      <td>35.0</td>\n",
       "      <td>0</td>\n",
       "      <td>0</td>\n",
       "      <td>373450</td>\n",
       "      <td>8.0500</td>\n",
       "      <td>NaN</td>\n",
       "      <td>S</td>\n",
       "    </tr>\n",
       "  </tbody>\n",
       "</table>\n",
       "</div>"
      ],
      "text/plain": [
       "   Pclass                                               Name     Sex   Age  \\\n",
       "0       3                            Braund, Mr. Owen Harris    male  22.0   \n",
       "1       1  Cumings, Mrs. John Bradley (Florence Briggs Th...  female  38.0   \n",
       "2       3                             Heikkinen, Miss. Laina  female  26.0   \n",
       "3       1       Futrelle, Mrs. Jacques Heath (Lily May Peel)  female  35.0   \n",
       "4       3                           Allen, Mr. William Henry    male  35.0   \n",
       "\n",
       "   SibSp  Parch            Ticket     Fare Cabin Embarked  \n",
       "0      1      0         A/5 21171   7.2500   NaN        S  \n",
       "1      1      0          PC 17599  71.2833   C85        C  \n",
       "2      0      0  STON/O2. 3101282   7.9250   NaN        S  \n",
       "3      1      0            113803  53.1000  C123        S  \n",
       "4      0      0            373450   8.0500   NaN        S  "
      ]
     },
     "execution_count": 389,
     "metadata": {},
     "output_type": "execute_result"
    }
   ],
   "source": [
    "# Import Data\n",
    "raw_data = pd.read_csv('/Users/jimmy/Desktop/Titanic/train.csv')\n",
    "data = raw_data.copy(deep = False)\n",
    "Responses = data['Survived']\n",
    "del data['PassengerId']\n",
    "del data['Survived']\n",
    "data.head()"
   ]
  },
  {
   "cell_type": "markdown",
   "metadata": {},
   "source": [
    "### Preliminary Data Analysis"
   ]
  },
  {
   "cell_type": "markdown",
   "metadata": {},
   "source": [
    "#### Overall Analysis"
   ]
  },
  {
   "cell_type": "code",
   "execution_count": 390,
   "metadata": {},
   "outputs": [
    {
     "data": {
      "text/plain": [
       "0.3838383838383838"
      ]
     },
     "execution_count": 390,
     "metadata": {},
     "output_type": "execute_result"
    }
   ],
   "source": [
    "raw_data['Survived'].mean()"
   ]
  },
  {
   "cell_type": "markdown",
   "metadata": {},
   "source": [
    "#### Chances for survival overall were 39% "
   ]
  },
  {
   "cell_type": "code",
   "execution_count": 391,
   "metadata": {},
   "outputs": [
    {
     "data": {
      "text/html": [
       "<div>\n",
       "<style scoped>\n",
       "    .dataframe tbody tr th:only-of-type {\n",
       "        vertical-align: middle;\n",
       "    }\n",
       "\n",
       "    .dataframe tbody tr th {\n",
       "        vertical-align: top;\n",
       "    }\n",
       "\n",
       "    .dataframe thead th {\n",
       "        text-align: right;\n",
       "    }\n",
       "</style>\n",
       "<table border=\"1\" class=\"dataframe\">\n",
       "  <thead>\n",
       "    <tr style=\"text-align: right;\">\n",
       "      <th></th>\n",
       "      <th>PassengerId</th>\n",
       "      <th>Survived</th>\n",
       "      <th>Age</th>\n",
       "      <th>SibSp</th>\n",
       "      <th>Parch</th>\n",
       "      <th>Fare</th>\n",
       "    </tr>\n",
       "    <tr>\n",
       "      <th>Pclass</th>\n",
       "      <th></th>\n",
       "      <th></th>\n",
       "      <th></th>\n",
       "      <th></th>\n",
       "      <th></th>\n",
       "      <th></th>\n",
       "    </tr>\n",
       "  </thead>\n",
       "  <tbody>\n",
       "    <tr>\n",
       "      <th>1</th>\n",
       "      <td>461.597222</td>\n",
       "      <td>0.629630</td>\n",
       "      <td>38.233441</td>\n",
       "      <td>0.416667</td>\n",
       "      <td>0.356481</td>\n",
       "      <td>84.154687</td>\n",
       "    </tr>\n",
       "    <tr>\n",
       "      <th>2</th>\n",
       "      <td>445.956522</td>\n",
       "      <td>0.472826</td>\n",
       "      <td>29.877630</td>\n",
       "      <td>0.402174</td>\n",
       "      <td>0.380435</td>\n",
       "      <td>20.662183</td>\n",
       "    </tr>\n",
       "    <tr>\n",
       "      <th>3</th>\n",
       "      <td>439.154786</td>\n",
       "      <td>0.242363</td>\n",
       "      <td>25.140620</td>\n",
       "      <td>0.615071</td>\n",
       "      <td>0.393075</td>\n",
       "      <td>13.675550</td>\n",
       "    </tr>\n",
       "  </tbody>\n",
       "</table>\n",
       "</div>"
      ],
      "text/plain": [
       "        PassengerId  Survived        Age     SibSp     Parch       Fare\n",
       "Pclass                                                                 \n",
       "1        461.597222  0.629630  38.233441  0.416667  0.356481  84.154687\n",
       "2        445.956522  0.472826  29.877630  0.402174  0.380435  20.662183\n",
       "3        439.154786  0.242363  25.140620  0.615071  0.393075  13.675550"
      ]
     },
     "execution_count": 391,
     "metadata": {},
     "output_type": "execute_result"
    }
   ],
   "source": [
    "raw_data.groupby('Pclass').mean()"
   ]
  },
  {
   "cell_type": "markdown",
   "metadata": {},
   "source": [
    "#### There is a clear correlation between passenger class and metrics such as survival, age, fare paid, and group size"
   ]
  },
  {
   "cell_type": "markdown",
   "metadata": {},
   "source": [
    "### PDA of initial variables"
   ]
  },
  {
   "cell_type": "markdown",
   "metadata": {},
   "source": [
    "pclass: A proxy for socio-economic status (SES)\n",
    "1st = Upper\n",
    "2nd = Middle\n",
    "3rd = Lower"
   ]
  },
  {
   "cell_type": "code",
   "execution_count": 392,
   "metadata": {},
   "outputs": [
    {
     "data": {
      "text/plain": [
       "<matplotlib.axes._subplots.AxesSubplot at 0x1263caf50>"
      ]
     },
     "execution_count": 392,
     "metadata": {},
     "output_type": "execute_result"
    },
    {
     "data": {
      "image/png": "[encoded data removed]",
      "text/plain": [
       "<Figure size 432x288 with 1 Axes>"
      ]
     },
     "metadata": {},
     "output_type": "display_data"
    }
   ],
   "source": [
    "# Passenger class\n",
    "data.Pclass.hist()"
   ]
  },
  {
   "cell_type": "markdown",
   "metadata": {},
   "source": [
    "#### Three classes, Pclass 3 over represented in group"
   ]
  },
  {
   "cell_type": "markdown",
   "metadata": {},
   "source": [
    "age: Age is fractional if less than 1. If the age is estimated, is it in the form of xx.5"
   ]
  },
  {
   "cell_type": "code",
   "execution_count": 393,
   "metadata": {},
   "outputs": [
    {
     "data": {
      "text/plain": [
       "<matplotlib.axes._subplots.AxesSubplot at 0x1279b1910>"
      ]
     },
     "execution_count": 393,
     "metadata": {},
     "output_type": "execute_result"
    },
    {
     "data": {
      "image/png": "[encoded data removed]",
      "text/plain": [
       "<Figure size 432x288 with 1 Axes>"
      ]
     },
     "metadata": {},
     "output_type": "display_data"
    }
   ],
   "source": [
    "# Passenger Age\n",
    "data.Age.hist()"
   ]
  },
  {
   "cell_type": "markdown",
   "metadata": {},
   "source": [
    "#### Distribution shows two possible groups (younger than ~18 versus adults)"
   ]
  },
  {
   "cell_type": "markdown",
   "metadata": {},
   "source": [
    "sibsp: The dataset defines family relations in this way...\n",
    "Sibling = brother, sister, stepbrother, stepsister\n",
    "Spouse = husband, wife (mistresses and fiancés were ignored)"
   ]
  },
  {
   "cell_type": "code",
   "execution_count": 394,
   "metadata": {},
   "outputs": [
    {
     "data": {
      "text/plain": [
       "<matplotlib.axes._subplots.AxesSubplot at 0x127765890>"
      ]
     },
     "execution_count": 394,
     "metadata": {},
     "output_type": "execute_result"
    },
    {
     "data": {
      "image/png": "[encoded data removed]",
      "text/plain": [
       "<Figure size 432x288 with 1 Axes>"
      ]
     },
     "metadata": {},
     "output_type": "display_data"
    }
   ],
   "source": [
    "# Siblings\n",
    "data.SibSp.hist()"
   ]
  },
  {
   "cell_type": "markdown",
   "metadata": {},
   "source": [
    "#### Again, two possible distributions 0 or 1 family members versus larger families"
   ]
  },
  {
   "cell_type": "markdown",
   "metadata": {},
   "source": [
    "parch: The dataset defines family relations in this way...\n",
    "Parent = mother, father\n",
    "Child = daughter, son, stepdaughter, stepson\n",
    "Some children travelled only with a nanny, therefore parch=0 for them."
   ]
  },
  {
   "cell_type": "code",
   "execution_count": 395,
   "metadata": {},
   "outputs": [
    {
     "data": {
      "text/plain": [
       "<matplotlib.axes._subplots.AxesSubplot at 0x128be8ed0>"
      ]
     },
     "execution_count": 395,
     "metadata": {},
     "output_type": "execute_result"
    },
    {
     "data": {
      "image/png": "[encoded data removed]",
      "text/plain": [
       "<Figure size 432x288 with 1 Axes>"
      ]
     },
     "metadata": {},
     "output_type": "display_data"
    }
   ],
   "source": [
    "data.Parch.hist()"
   ]
  },
  {
   "cell_type": "markdown",
   "metadata": {},
   "source": [
    "#### Similar to SibSp distribution..."
   ]
  },
  {
   "cell_type": "code",
   "execution_count": 396,
   "metadata": {},
   "outputs": [
    {
     "data": {
      "text/plain": [
       "<matplotlib.axes._subplots.AxesSubplot at 0x128cc5cd0>"
      ]
     },
     "execution_count": 396,
     "metadata": {},
     "output_type": "execute_result"
    },
    {
     "data": {
      "image/png": "[encoded data removed]",
      "text/plain": [
       "<Figure size 432x288 with 1 Axes>"
      ]
     },
     "metadata": {},
     "output_type": "display_data"
    }
   ],
   "source": [
    "data.Fare.hist()"
   ]
  },
  {
   "cell_type": "markdown",
   "metadata": {},
   "source": [
    "#### Most Fares were below 50 and the vast majority were below 100"
   ]
  },
  {
   "cell_type": "markdown",
   "metadata": {},
   "source": [
    "Port of Embarkation\tC = Cherbourg, Q = Queenstown, S = Southampton"
   ]
  },
  {
   "cell_type": "code",
   "execution_count": 397,
   "metadata": {},
   "outputs": [
    {
     "data": {
      "text/plain": [
       "<matplotlib.axes._subplots.AxesSubplot at 0x128db5150>"
      ]
     },
     "execution_count": 397,
     "metadata": {},
     "output_type": "execute_result"
    },
    {
     "data": {
      "image/png": "[encoded data removed]",
      "text/plain": [
       "<Figure size 432x288 with 1 Axes>"
      ]
     },
     "metadata": {},
     "output_type": "display_data"
    }
   ],
   "source": [
    "Embarked= pd.get_dummies(data['Embarked'])\n",
    "Embarked_sum = Embarked.sum(axis=0)\n",
    "Embarked_sum.plot.bar()"
   ]
  },
  {
   "cell_type": "markdown",
   "metadata": {},
   "source": [
    "#### Most customers embarked from Southampton"
   ]
  },
  {
   "cell_type": "markdown",
   "metadata": {},
   "source": [
    "##### Does the point of where people embarked matter for survival? "
   ]
  },
  {
   "cell_type": "code",
   "execution_count": 398,
   "metadata": {},
   "outputs": [
    {
     "data": {
      "text/plain": [
       "<matplotlib.axes._subplots.AxesSubplot at 0x128ea0c10>"
      ]
     },
     "execution_count": 398,
     "metadata": {},
     "output_type": "execute_result"
    },
    {
     "data": {
      "image/png": "[encoded data removed]",
      "text/plain": [
       "<Figure size 432x288 with 1 Axes>"
      ]
     },
     "metadata": {},
     "output_type": "display_data"
    }
   ],
   "source": [
    "Embarked['Survival'] = Responses\n",
    "Embarked.groupby('Survival').mean().plot.bar()"
   ]
  },
  {
   "cell_type": "markdown",
   "metadata": {},
   "source": [
    "#### Lets normalize by the initial group number to check a little further"
   ]
  },
  {
   "cell_type": "code",
   "execution_count": 399,
   "metadata": {},
   "outputs": [
    {
     "data": {
      "text/plain": [
       "<matplotlib.axes._subplots.AxesSubplot at 0x128f5d590>"
      ]
     },
     "execution_count": 399,
     "metadata": {},
     "output_type": "execute_result"
    },
    {
     "data": {
      "image/png": "[encoded data removed]",
      "text/plain": [
       "<Figure size 432x288 with 1 Axes>"
      ]
     },
     "metadata": {},
     "output_type": "display_data"
    }
   ],
   "source": [
    "normalized_embark = Embarked.groupby('Survival').mean()/Embarked_sum \n",
    "normalized_embark.plot.bar()"
   ]
  },
  {
   "cell_type": "markdown",
   "metadata": {},
   "source": [
    "#### It appears that those who embarked from Cherborg had a better chance of survival than those from Southampton.  I won't go into further analysis here, but likely there were more first class customers boarding at this destination in France... "
   ]
  },
  {
   "cell_type": "markdown",
   "metadata": {},
   "source": [
    "### This was the easy analysis. Further analysis will involve deriving additional insight from the information we are given! First, lets analyze the cabin assignments."
   ]
  },
  {
   "cell_type": "markdown",
   "metadata": {},
   "source": [
    "Cabin assignments are all made up of a letter and a number. From research (https://www.encyclopedia-titanica.org/titanic-deckplans/a-deck.html) it appears that cabin decks range from A through potentially G, where A will be the highest/ top deck and each letter following will descend in the ship. For our analysis, I will separate the cabin deck from the numbers as a preliminary step."
   ]
  },
  {
   "cell_type": "code",
   "execution_count": 400,
   "metadata": {},
   "outputs": [],
   "source": [
    "# Find deck letter \n",
    "data['Deck'] = data['Cabin'].astype(str).str[0]\n",
    "data['Deck'] = data['Deck'].replace('n',np.NaN)\n",
    "data['Survival'] = Responses"
   ]
  },
  {
   "cell_type": "code",
   "execution_count": 401,
   "metadata": {},
   "outputs": [
    {
     "data": {
      "text/html": [
       "<div>\n",
       "<style scoped>\n",
       "    .dataframe tbody tr th:only-of-type {\n",
       "        vertical-align: middle;\n",
       "    }\n",
       "\n",
       "    .dataframe tbody tr th {\n",
       "        vertical-align: top;\n",
       "    }\n",
       "\n",
       "    .dataframe thead th {\n",
       "        text-align: right;\n",
       "    }\n",
       "</style>\n",
       "<table border=\"1\" class=\"dataframe\">\n",
       "  <thead>\n",
       "    <tr style=\"text-align: right;\">\n",
       "      <th></th>\n",
       "      <th>Pclass</th>\n",
       "      <th>Age</th>\n",
       "      <th>SibSp</th>\n",
       "      <th>Parch</th>\n",
       "      <th>Fare</th>\n",
       "      <th>Survival</th>\n",
       "    </tr>\n",
       "    <tr>\n",
       "      <th>Deck</th>\n",
       "      <th></th>\n",
       "      <th></th>\n",
       "      <th></th>\n",
       "      <th></th>\n",
       "      <th></th>\n",
       "      <th></th>\n",
       "    </tr>\n",
       "  </thead>\n",
       "  <tbody>\n",
       "    <tr>\n",
       "      <th>A</th>\n",
       "      <td>1.000000</td>\n",
       "      <td>44.833333</td>\n",
       "      <td>0.133333</td>\n",
       "      <td>0.133333</td>\n",
       "      <td>39.623887</td>\n",
       "      <td>0.466667</td>\n",
       "    </tr>\n",
       "    <tr>\n",
       "      <th>B</th>\n",
       "      <td>1.000000</td>\n",
       "      <td>34.955556</td>\n",
       "      <td>0.361702</td>\n",
       "      <td>0.574468</td>\n",
       "      <td>113.505764</td>\n",
       "      <td>0.744681</td>\n",
       "    </tr>\n",
       "    <tr>\n",
       "      <th>C</th>\n",
       "      <td>1.000000</td>\n",
       "      <td>36.086667</td>\n",
       "      <td>0.644068</td>\n",
       "      <td>0.474576</td>\n",
       "      <td>100.151341</td>\n",
       "      <td>0.593220</td>\n",
       "    </tr>\n",
       "    <tr>\n",
       "      <th>D</th>\n",
       "      <td>1.121212</td>\n",
       "      <td>39.032258</td>\n",
       "      <td>0.424242</td>\n",
       "      <td>0.303030</td>\n",
       "      <td>57.244576</td>\n",
       "      <td>0.757576</td>\n",
       "    </tr>\n",
       "    <tr>\n",
       "      <th>E</th>\n",
       "      <td>1.312500</td>\n",
       "      <td>38.116667</td>\n",
       "      <td>0.312500</td>\n",
       "      <td>0.312500</td>\n",
       "      <td>46.026694</td>\n",
       "      <td>0.750000</td>\n",
       "    </tr>\n",
       "    <tr>\n",
       "      <th>F</th>\n",
       "      <td>2.384615</td>\n",
       "      <td>19.954545</td>\n",
       "      <td>0.538462</td>\n",
       "      <td>0.538462</td>\n",
       "      <td>18.696792</td>\n",
       "      <td>0.615385</td>\n",
       "    </tr>\n",
       "    <tr>\n",
       "      <th>G</th>\n",
       "      <td>3.000000</td>\n",
       "      <td>14.750000</td>\n",
       "      <td>0.500000</td>\n",
       "      <td>1.250000</td>\n",
       "      <td>13.581250</td>\n",
       "      <td>0.500000</td>\n",
       "    </tr>\n",
       "    <tr>\n",
       "      <th>T</th>\n",
       "      <td>1.000000</td>\n",
       "      <td>45.000000</td>\n",
       "      <td>0.000000</td>\n",
       "      <td>0.000000</td>\n",
       "      <td>35.500000</td>\n",
       "      <td>0.000000</td>\n",
       "    </tr>\n",
       "  </tbody>\n",
       "</table>\n",
       "</div>"
      ],
      "text/plain": [
       "        Pclass        Age     SibSp     Parch        Fare  Survival\n",
       "Deck                                                               \n",
       "A     1.000000  44.833333  0.133333  0.133333   39.623887  0.466667\n",
       "B     1.000000  34.955556  0.361702  0.574468  113.505764  0.744681\n",
       "C     1.000000  36.086667  0.644068  0.474576  100.151341  0.593220\n",
       "D     1.121212  39.032258  0.424242  0.303030   57.244576  0.757576\n",
       "E     1.312500  38.116667  0.312500  0.312500   46.026694  0.750000\n",
       "F     2.384615  19.954545  0.538462  0.538462   18.696792  0.615385\n",
       "G     3.000000  14.750000  0.500000  1.250000   13.581250  0.500000\n",
       "T     1.000000  45.000000  0.000000  0.000000   35.500000  0.000000"
      ]
     },
     "execution_count": 401,
     "metadata": {},
     "output_type": "execute_result"
    }
   ],
   "source": [
    "data.groupby('Deck').mean()"
   ]
  },
  {
   "cell_type": "markdown",
   "metadata": {},
   "source": [
    "#### Deck location seems to play a role in survival, although not by class... I would have guessed that A deck would have had the highest survival, but it had the lowest.  From diagrams of the ship, all A cabins appear to be toward the back of the ship.  Maybe the number of the cabin plays a role as well?"
   ]
  },
  {
   "cell_type": "code",
   "execution_count": 402,
   "metadata": {},
   "outputs": [],
   "source": [
    "data['Cabin'] = data['Cabin'].replace('nan',np.NaN)\n",
    "data['temp'] = data['Cabin'].str.extract('(\\d+)', expand = False)\n",
    "data['Cabnum'] = data['temp'].astype(str).str[0:3]\n",
    "data['Cabnum'] = data['Cabnum'].replace('an', np.NaN)\n",
    "data['Cabnum'] = pd.to_numeric(data['Cabnum'], errors='coerce')\n",
    "del data['temp']"
   ]
  },
  {
   "cell_type": "code",
   "execution_count": 403,
   "metadata": {},
   "outputs": [
    {
     "data": {
      "text/html": [
       "<div>\n",
       "<style scoped>\n",
       "    .dataframe tbody tr th:only-of-type {\n",
       "        vertical-align: middle;\n",
       "    }\n",
       "\n",
       "    .dataframe tbody tr th {\n",
       "        vertical-align: top;\n",
       "    }\n",
       "\n",
       "    .dataframe thead th {\n",
       "        text-align: right;\n",
       "    }\n",
       "</style>\n",
       "<table border=\"1\" class=\"dataframe\">\n",
       "  <thead>\n",
       "    <tr style=\"text-align: right;\">\n",
       "      <th></th>\n",
       "      <th>Pclass</th>\n",
       "      <th>Age</th>\n",
       "      <th>SibSp</th>\n",
       "      <th>Parch</th>\n",
       "      <th>Fare</th>\n",
       "      <th>Survival</th>\n",
       "      <th>Cabnum</th>\n",
       "    </tr>\n",
       "    <tr>\n",
       "      <th>Deck</th>\n",
       "      <th></th>\n",
       "      <th></th>\n",
       "      <th></th>\n",
       "      <th></th>\n",
       "      <th></th>\n",
       "      <th></th>\n",
       "      <th></th>\n",
       "    </tr>\n",
       "  </thead>\n",
       "  <tbody>\n",
       "    <tr>\n",
       "      <th>A</th>\n",
       "      <td>1.000000</td>\n",
       "      <td>44.833333</td>\n",
       "      <td>0.133333</td>\n",
       "      <td>0.133333</td>\n",
       "      <td>39.623887</td>\n",
       "      <td>0.466667</td>\n",
       "      <td>20.200000</td>\n",
       "    </tr>\n",
       "    <tr>\n",
       "      <th>B</th>\n",
       "      <td>1.000000</td>\n",
       "      <td>34.955556</td>\n",
       "      <td>0.361702</td>\n",
       "      <td>0.574468</td>\n",
       "      <td>113.505764</td>\n",
       "      <td>0.744681</td>\n",
       "      <td>51.957447</td>\n",
       "    </tr>\n",
       "    <tr>\n",
       "      <th>C</th>\n",
       "      <td>1.000000</td>\n",
       "      <td>36.086667</td>\n",
       "      <td>0.644068</td>\n",
       "      <td>0.474576</td>\n",
       "      <td>100.151341</td>\n",
       "      <td>0.593220</td>\n",
       "      <td>75.525424</td>\n",
       "    </tr>\n",
       "    <tr>\n",
       "      <th>D</th>\n",
       "      <td>1.121212</td>\n",
       "      <td>39.032258</td>\n",
       "      <td>0.424242</td>\n",
       "      <td>0.303030</td>\n",
       "      <td>57.244576</td>\n",
       "      <td>0.757576</td>\n",
       "      <td>28.933333</td>\n",
       "    </tr>\n",
       "    <tr>\n",
       "      <th>E</th>\n",
       "      <td>1.312500</td>\n",
       "      <td>38.116667</td>\n",
       "      <td>0.312500</td>\n",
       "      <td>0.312500</td>\n",
       "      <td>46.026694</td>\n",
       "      <td>0.750000</td>\n",
       "      <td>49.250000</td>\n",
       "    </tr>\n",
       "    <tr>\n",
       "      <th>F</th>\n",
       "      <td>2.384615</td>\n",
       "      <td>19.954545</td>\n",
       "      <td>0.538462</td>\n",
       "      <td>0.538462</td>\n",
       "      <td>18.696792</td>\n",
       "      <td>0.615385</td>\n",
       "      <td>33.000000</td>\n",
       "    </tr>\n",
       "    <tr>\n",
       "      <th>G</th>\n",
       "      <td>3.000000</td>\n",
       "      <td>14.750000</td>\n",
       "      <td>0.500000</td>\n",
       "      <td>1.250000</td>\n",
       "      <td>13.581250</td>\n",
       "      <td>0.500000</td>\n",
       "      <td>6.000000</td>\n",
       "    </tr>\n",
       "    <tr>\n",
       "      <th>T</th>\n",
       "      <td>1.000000</td>\n",
       "      <td>45.000000</td>\n",
       "      <td>0.000000</td>\n",
       "      <td>0.000000</td>\n",
       "      <td>35.500000</td>\n",
       "      <td>0.000000</td>\n",
       "      <td>NaN</td>\n",
       "    </tr>\n",
       "  </tbody>\n",
       "</table>\n",
       "</div>"
      ],
      "text/plain": [
       "        Pclass        Age     SibSp     Parch        Fare  Survival     Cabnum\n",
       "Deck                                                                          \n",
       "A     1.000000  44.833333  0.133333  0.133333   39.623887  0.466667  20.200000\n",
       "B     1.000000  34.955556  0.361702  0.574468  113.505764  0.744681  51.957447\n",
       "C     1.000000  36.086667  0.644068  0.474576  100.151341  0.593220  75.525424\n",
       "D     1.121212  39.032258  0.424242  0.303030   57.244576  0.757576  28.933333\n",
       "E     1.312500  38.116667  0.312500  0.312500   46.026694  0.750000  49.250000\n",
       "F     2.384615  19.954545  0.538462  0.538462   18.696792  0.615385  33.000000\n",
       "G     3.000000  14.750000  0.500000  1.250000   13.581250  0.500000   6.000000\n",
       "T     1.000000  45.000000  0.000000  0.000000   35.500000  0.000000        NaN"
      ]
     },
     "execution_count": 403,
     "metadata": {},
     "output_type": "execute_result"
    }
   ],
   "source": [
    "data.groupby('Deck').mean()"
   ]
  },
  {
   "cell_type": "markdown",
   "metadata": {},
   "source": [
    "#### Somewhat difficult to see a relationship here, likely not a helpful variable..."
   ]
  },
  {
   "cell_type": "markdown",
   "metadata": {},
   "source": [
    "####  Moving on to the ticket number, the format of the tickets seems to be some combination of a pre-ticket code and a ticket number. We can separate and analyze these two codes for any interesting information."
   ]
  },
  {
   "cell_type": "code",
   "execution_count": 404,
   "metadata": {},
   "outputs": [],
   "source": [
    "data['Ticket'] = data['Ticket'].str.lower() # Make all cases lower\n",
    "data['preticket'] = data['Ticket'].str.replace('\\d+', '') # eliminate numbers\n",
    "data['preticket'] = data['preticket'].str.replace('.','') # eliminate periods\n",
    "data['preticket'] = data['preticket'].str.replace('/','') # eliminate /\n",
    "data['preticket'] = data['preticket'].str.replace(' ','') # eliminate spaces"
   ]
  },
  {
   "cell_type": "code",
   "execution_count": 405,
   "metadata": {},
   "outputs": [
    {
     "data": {
      "text/plain": [
       "array(['a', 'pc', 'stono', '', 'pp', 'ca', 'scparis', 'sca', 'sp', 'soc',\n",
       "       'wc', 'sotonoq', 'wep', 'c', 'sop', 'fa', 'line', 'fcc', 'swpp',\n",
       "       'scow', 'ppp', 'sc', 'scah', 'as', 'scahbasle', 'sopp', 'fc',\n",
       "       'sotono', 'casoton'], dtype=object)"
      ]
     },
     "execution_count": 405,
     "metadata": {},
     "output_type": "execute_result"
    }
   ],
   "source": [
    "# See what groups are currently remaining\n",
    "data.preticket.unique()"
   ]
  },
  {
   "cell_type": "code",
   "execution_count": 406,
   "metadata": {},
   "outputs": [
    {
     "data": {
      "text/plain": [
       "             661\n",
       "pc            60\n",
       "ca            41\n",
       "a             28\n",
       "stono         18\n",
       "sotonoq       15\n",
       "scparis       11\n",
       "wc            10\n",
       "soc            6\n",
       "c              5\n",
       "fcc            5\n",
       "line           4\n",
       "wep            3\n",
       "pp             3\n",
       "sopp           3\n",
       "sotono         2\n",
       "ppp            2\n",
       "swpp           2\n",
       "scah           2\n",
       "fc             1\n",
       "fa             1\n",
       "scow           1\n",
       "scahbasle      1\n",
       "casoton        1\n",
       "as             1\n",
       "sop            1\n",
       "sca            1\n",
       "sp             1\n",
       "sc             1\n",
       "Name: preticket, dtype: int64"
      ]
     },
     "execution_count": 406,
     "metadata": {},
     "output_type": "execute_result"
    }
   ],
   "source": [
    "# How many of each group?\n",
    "data.preticket.value_counts()"
   ]
  },
  {
   "cell_type": "code",
   "execution_count": 407,
   "metadata": {},
   "outputs": [
    {
     "data": {
      "text/html": [
       "<div>\n",
       "<style scoped>\n",
       "    .dataframe tbody tr th:only-of-type {\n",
       "        vertical-align: middle;\n",
       "    }\n",
       "\n",
       "    .dataframe tbody tr th {\n",
       "        vertical-align: top;\n",
       "    }\n",
       "\n",
       "    .dataframe thead th {\n",
       "        text-align: right;\n",
       "    }\n",
       "</style>\n",
       "<table border=\"1\" class=\"dataframe\">\n",
       "  <thead>\n",
       "    <tr style=\"text-align: right;\">\n",
       "      <th></th>\n",
       "      <th>Pclass</th>\n",
       "      <th>Age</th>\n",
       "      <th>SibSp</th>\n",
       "      <th>Parch</th>\n",
       "      <th>Fare</th>\n",
       "      <th>Survival</th>\n",
       "      <th>Cabnum</th>\n",
       "    </tr>\n",
       "    <tr>\n",
       "      <th>preticket</th>\n",
       "      <th></th>\n",
       "      <th></th>\n",
       "      <th></th>\n",
       "      <th></th>\n",
       "      <th></th>\n",
       "      <th></th>\n",
       "      <th></th>\n",
       "    </tr>\n",
       "  </thead>\n",
       "  <tbody>\n",
       "    <tr>\n",
       "      <th></th>\n",
       "      <td>2.347958</td>\n",
       "      <td>29.435067</td>\n",
       "      <td>0.470499</td>\n",
       "      <td>0.364599</td>\n",
       "      <td>27.130899</td>\n",
       "      <td>0.384266</td>\n",
       "      <td>49.918919</td>\n",
       "    </tr>\n",
       "    <tr>\n",
       "      <th>a</th>\n",
       "      <td>3.000000</td>\n",
       "      <td>29.369565</td>\n",
       "      <td>0.214286</td>\n",
       "      <td>0.071429</td>\n",
       "      <td>10.044046</td>\n",
       "      <td>0.071429</td>\n",
       "      <td>NaN</td>\n",
       "    </tr>\n",
       "    <tr>\n",
       "      <th>as</th>\n",
       "      <td>3.000000</td>\n",
       "      <td>NaN</td>\n",
       "      <td>0.000000</td>\n",
       "      <td>0.000000</td>\n",
       "      <td>8.050000</td>\n",
       "      <td>0.000000</td>\n",
       "      <td>NaN</td>\n",
       "    </tr>\n",
       "    <tr>\n",
       "      <th>c</th>\n",
       "      <td>3.000000</td>\n",
       "      <td>29.400000</td>\n",
       "      <td>0.000000</td>\n",
       "      <td>0.000000</td>\n",
       "      <td>10.123340</td>\n",
       "      <td>0.400000</td>\n",
       "      <td>NaN</td>\n",
       "    </tr>\n",
       "    <tr>\n",
       "      <th>ca</th>\n",
       "      <td>2.536585</td>\n",
       "      <td>25.090909</td>\n",
       "      <td>2.317073</td>\n",
       "      <td>1.219512</td>\n",
       "      <td>30.991463</td>\n",
       "      <td>0.341463</td>\n",
       "      <td>33.000000</td>\n",
       "    </tr>\n",
       "    <tr>\n",
       "      <th>casoton</th>\n",
       "      <td>2.000000</td>\n",
       "      <td>28.000000</td>\n",
       "      <td>0.000000</td>\n",
       "      <td>0.000000</td>\n",
       "      <td>10.500000</td>\n",
       "      <td>0.000000</td>\n",
       "      <td>NaN</td>\n",
       "    </tr>\n",
       "    <tr>\n",
       "      <th>fa</th>\n",
       "      <td>3.000000</td>\n",
       "      <td>NaN</td>\n",
       "      <td>0.000000</td>\n",
       "      <td>0.000000</td>\n",
       "      <td>7.312500</td>\n",
       "      <td>0.000000</td>\n",
       "      <td>NaN</td>\n",
       "    </tr>\n",
       "    <tr>\n",
       "      <th>fc</th>\n",
       "      <td>1.000000</td>\n",
       "      <td>31.000000</td>\n",
       "      <td>1.000000</td>\n",
       "      <td>0.000000</td>\n",
       "      <td>52.000000</td>\n",
       "      <td>0.000000</td>\n",
       "      <td>71.000000</td>\n",
       "    </tr>\n",
       "    <tr>\n",
       "      <th>fcc</th>\n",
       "      <td>2.000000</td>\n",
       "      <td>36.000000</td>\n",
       "      <td>0.400000</td>\n",
       "      <td>0.800000</td>\n",
       "      <td>22.050000</td>\n",
       "      <td>0.800000</td>\n",
       "      <td>NaN</td>\n",
       "    </tr>\n",
       "    <tr>\n",
       "      <th>line</th>\n",
       "      <td>3.000000</td>\n",
       "      <td>32.250000</td>\n",
       "      <td>0.000000</td>\n",
       "      <td>0.000000</td>\n",
       "      <td>0.000000</td>\n",
       "      <td>0.250000</td>\n",
       "      <td>NaN</td>\n",
       "    </tr>\n",
       "    <tr>\n",
       "      <th>pc</th>\n",
       "      <td>1.000000</td>\n",
       "      <td>37.120000</td>\n",
       "      <td>0.333333</td>\n",
       "      <td>0.233333</td>\n",
       "      <td>122.080483</td>\n",
       "      <td>0.650000</td>\n",
       "      <td>57.119048</td>\n",
       "    </tr>\n",
       "    <tr>\n",
       "      <th>pp</th>\n",
       "      <td>3.000000</td>\n",
       "      <td>16.666667</td>\n",
       "      <td>0.333333</td>\n",
       "      <td>1.000000</td>\n",
       "      <td>14.250000</td>\n",
       "      <td>0.666667</td>\n",
       "      <td>6.000000</td>\n",
       "    </tr>\n",
       "    <tr>\n",
       "      <th>ppp</th>\n",
       "      <td>2.000000</td>\n",
       "      <td>29.000000</td>\n",
       "      <td>1.000000</td>\n",
       "      <td>0.000000</td>\n",
       "      <td>24.000000</td>\n",
       "      <td>0.500000</td>\n",
       "      <td>NaN</td>\n",
       "    </tr>\n",
       "    <tr>\n",
       "      <th>sc</th>\n",
       "      <td>2.000000</td>\n",
       "      <td>17.000000</td>\n",
       "      <td>0.000000</td>\n",
       "      <td>0.000000</td>\n",
       "      <td>12.000000</td>\n",
       "      <td>1.000000</td>\n",
       "      <td>NaN</td>\n",
       "    </tr>\n",
       "    <tr>\n",
       "      <th>sca</th>\n",
       "      <td>3.000000</td>\n",
       "      <td>NaN</td>\n",
       "      <td>0.000000</td>\n",
       "      <td>0.000000</td>\n",
       "      <td>8.050000</td>\n",
       "      <td>0.000000</td>\n",
       "      <td>NaN</td>\n",
       "    </tr>\n",
       "    <tr>\n",
       "      <th>scah</th>\n",
       "      <td>2.000000</td>\n",
       "      <td>39.500000</td>\n",
       "      <td>1.000000</td>\n",
       "      <td>0.000000</td>\n",
       "      <td>26.000000</td>\n",
       "      <td>0.500000</td>\n",
       "      <td>NaN</td>\n",
       "    </tr>\n",
       "    <tr>\n",
       "      <th>scahbasle</th>\n",
       "      <td>2.000000</td>\n",
       "      <td>23.000000</td>\n",
       "      <td>0.000000</td>\n",
       "      <td>0.000000</td>\n",
       "      <td>13.791700</td>\n",
       "      <td>1.000000</td>\n",
       "      <td>NaN</td>\n",
       "    </tr>\n",
       "    <tr>\n",
       "      <th>scow</th>\n",
       "      <td>2.000000</td>\n",
       "      <td>33.000000</td>\n",
       "      <td>0.000000</td>\n",
       "      <td>0.000000</td>\n",
       "      <td>12.275000</td>\n",
       "      <td>0.000000</td>\n",
       "      <td>NaN</td>\n",
       "    </tr>\n",
       "    <tr>\n",
       "      <th>scparis</th>\n",
       "      <td>2.000000</td>\n",
       "      <td>21.888889</td>\n",
       "      <td>0.545455</td>\n",
       "      <td>0.818182</td>\n",
       "      <td>27.014400</td>\n",
       "      <td>0.454545</td>\n",
       "      <td>NaN</td>\n",
       "    </tr>\n",
       "    <tr>\n",
       "      <th>soc</th>\n",
       "      <td>2.000000</td>\n",
       "      <td>22.166667</td>\n",
       "      <td>1.000000</td>\n",
       "      <td>0.000000</td>\n",
       "      <td>63.000000</td>\n",
       "      <td>0.166667</td>\n",
       "      <td>NaN</td>\n",
       "    </tr>\n",
       "    <tr>\n",
       "      <th>sop</th>\n",
       "      <td>2.000000</td>\n",
       "      <td>51.000000</td>\n",
       "      <td>0.000000</td>\n",
       "      <td>0.000000</td>\n",
       "      <td>12.525000</td>\n",
       "      <td>0.000000</td>\n",
       "      <td>NaN</td>\n",
       "    </tr>\n",
       "    <tr>\n",
       "      <th>sopp</th>\n",
       "      <td>2.333333</td>\n",
       "      <td>36.500000</td>\n",
       "      <td>0.000000</td>\n",
       "      <td>0.000000</td>\n",
       "      <td>9.516667</td>\n",
       "      <td>0.000000</td>\n",
       "      <td>77.000000</td>\n",
       "    </tr>\n",
       "    <tr>\n",
       "      <th>sotono</th>\n",
       "      <td>3.000000</td>\n",
       "      <td>30.500000</td>\n",
       "      <td>0.000000</td>\n",
       "      <td>0.000000</td>\n",
       "      <td>7.525000</td>\n",
       "      <td>0.000000</td>\n",
       "      <td>NaN</td>\n",
       "    </tr>\n",
       "    <tr>\n",
       "      <th>sotonoq</th>\n",
       "      <td>3.000000</td>\n",
       "      <td>26.600000</td>\n",
       "      <td>0.000000</td>\n",
       "      <td>0.000000</td>\n",
       "      <td>7.530000</td>\n",
       "      <td>0.133333</td>\n",
       "      <td>10.000000</td>\n",
       "    </tr>\n",
       "    <tr>\n",
       "      <th>sp</th>\n",
       "      <td>3.000000</td>\n",
       "      <td>19.000000</td>\n",
       "      <td>0.000000</td>\n",
       "      <td>0.000000</td>\n",
       "      <td>8.158300</td>\n",
       "      <td>0.000000</td>\n",
       "      <td>NaN</td>\n",
       "    </tr>\n",
       "    <tr>\n",
       "      <th>stono</th>\n",
       "      <td>3.000000</td>\n",
       "      <td>27.722222</td>\n",
       "      <td>0.222222</td>\n",
       "      <td>0.000000</td>\n",
       "      <td>8.672222</td>\n",
       "      <td>0.444444</td>\n",
       "      <td>NaN</td>\n",
       "    </tr>\n",
       "    <tr>\n",
       "      <th>swpp</th>\n",
       "      <td>2.000000</td>\n",
       "      <td>40.500000</td>\n",
       "      <td>0.000000</td>\n",
       "      <td>0.000000</td>\n",
       "      <td>10.500000</td>\n",
       "      <td>1.000000</td>\n",
       "      <td>NaN</td>\n",
       "    </tr>\n",
       "    <tr>\n",
       "      <th>wc</th>\n",
       "      <td>2.700000</td>\n",
       "      <td>29.000000</td>\n",
       "      <td>0.800000</td>\n",
       "      <td>1.400000</td>\n",
       "      <td>22.345000</td>\n",
       "      <td>0.100000</td>\n",
       "      <td>NaN</td>\n",
       "    </tr>\n",
       "    <tr>\n",
       "      <th>wep</th>\n",
       "      <td>1.000000</td>\n",
       "      <td>50.666667</td>\n",
       "      <td>0.666667</td>\n",
       "      <td>1.000000</td>\n",
       "      <td>67.725000</td>\n",
       "      <td>0.333333</td>\n",
       "      <td>25.000000</td>\n",
       "    </tr>\n",
       "  </tbody>\n",
       "</table>\n",
       "</div>"
      ],
      "text/plain": [
       "             Pclass        Age     SibSp     Parch        Fare  Survival  \\\n",
       "preticket                                                                  \n",
       "           2.347958  29.435067  0.470499  0.364599   27.130899  0.384266   \n",
       "a          3.000000  29.369565  0.214286  0.071429   10.044046  0.071429   \n",
       "as         3.000000        NaN  0.000000  0.000000    8.050000  0.000000   \n",
       "c          3.000000  29.400000  0.000000  0.000000   10.123340  0.400000   \n",
       "ca         2.536585  25.090909  2.317073  1.219512   30.991463  0.341463   \n",
       "casoton    2.000000  28.000000  0.000000  0.000000   10.500000  0.000000   \n",
       "fa         3.000000        NaN  0.000000  0.000000    7.312500  0.000000   \n",
       "fc         1.000000  31.000000  1.000000  0.000000   52.000000  0.000000   \n",
       "fcc        2.000000  36.000000  0.400000  0.800000   22.050000  0.800000   \n",
       "line       3.000000  32.250000  0.000000  0.000000    0.000000  0.250000   \n",
       "pc         1.000000  37.120000  0.333333  0.233333  122.080483  0.650000   \n",
       "pp         3.000000  16.666667  0.333333  1.000000   14.250000  0.666667   \n",
       "ppp        2.000000  29.000000  1.000000  0.000000   24.000000  0.500000   \n",
       "sc         2.000000  17.000000  0.000000  0.000000   12.000000  1.000000   \n",
       "sca        3.000000        NaN  0.000000  0.000000    8.050000  0.000000   \n",
       "scah       2.000000  39.500000  1.000000  0.000000   26.000000  0.500000   \n",
       "scahbasle  2.000000  23.000000  0.000000  0.000000   13.791700  1.000000   \n",
       "scow       2.000000  33.000000  0.000000  0.000000   12.275000  0.000000   \n",
       "scparis    2.000000  21.888889  0.545455  0.818182   27.014400  0.454545   \n",
       "soc        2.000000  22.166667  1.000000  0.000000   63.000000  0.166667   \n",
       "sop        2.000000  51.000000  0.000000  0.000000   12.525000  0.000000   \n",
       "sopp       2.333333  36.500000  0.000000  0.000000    9.516667  0.000000   \n",
       "sotono     3.000000  30.500000  0.000000  0.000000    7.525000  0.000000   \n",
       "sotonoq    3.000000  26.600000  0.000000  0.000000    7.530000  0.133333   \n",
       "sp         3.000000  19.000000  0.000000  0.000000    8.158300  0.000000   \n",
       "stono      3.000000  27.722222  0.222222  0.000000    8.672222  0.444444   \n",
       "swpp       2.000000  40.500000  0.000000  0.000000   10.500000  1.000000   \n",
       "wc         2.700000  29.000000  0.800000  1.400000   22.345000  0.100000   \n",
       "wep        1.000000  50.666667  0.666667  1.000000   67.725000  0.333333   \n",
       "\n",
       "              Cabnum  \n",
       "preticket             \n",
       "           49.918919  \n",
       "a                NaN  \n",
       "as               NaN  \n",
       "c                NaN  \n",
       "ca         33.000000  \n",
       "casoton          NaN  \n",
       "fa               NaN  \n",
       "fc         71.000000  \n",
       "fcc              NaN  \n",
       "line             NaN  \n",
       "pc         57.119048  \n",
       "pp          6.000000  \n",
       "ppp              NaN  \n",
       "sc               NaN  \n",
       "sca              NaN  \n",
       "scah             NaN  \n",
       "scahbasle        NaN  \n",
       "scow             NaN  \n",
       "scparis          NaN  \n",
       "soc              NaN  \n",
       "sop              NaN  \n",
       "sopp       77.000000  \n",
       "sotono           NaN  \n",
       "sotonoq    10.000000  \n",
       "sp               NaN  \n",
       "stono            NaN  \n",
       "swpp             NaN  \n",
       "wc               NaN  \n",
       "wep        25.000000  "
      ]
     },
     "execution_count": 407,
     "metadata": {},
     "output_type": "execute_result"
    }
   ],
   "source": [
    "# See if it looks like there is any value here...\n",
    "data.groupby('preticket').mean()"
   ]
  },
  {
   "cell_type": "markdown",
   "metadata": {},
   "source": [
    "#### This looks promising, but many of the groups only have a single person in them. To make this a little more robust, we'll throw the classifications with below 10 examples into the group with no preticket..."
   ]
  },
  {
   "cell_type": "code",
   "execution_count": 408,
   "metadata": {},
   "outputs": [],
   "source": [
    "data['preticket'] = data['preticket'].str.replace('(?<![\\w\\d])c(?![\\w\\d])','') \n",
    "data['preticket'] = data['preticket'].str.replace('(?<![\\w\\d])sp(?![\\w\\d])','') \n",
    "data['preticket'] = data['preticket'].str.replace('(?<![\\w\\d])sca(?![\\w\\d])','') \n",
    "data['preticket'] = data['preticket'].str.replace('(?<![\\w\\d])sop(?![\\w\\d])','') \n",
    "data['preticket'] = data['preticket'].str.replace('(?<![\\w\\d])as(?![\\w\\d])','') \n",
    "data['preticket'] = data['preticket'].str.replace('(?<![\\w\\d])casoton(?![\\w\\d])','') \n",
    "data['preticket'] = data['preticket'].str.replace('(?<![\\w\\d])scahbasle(?![\\w\\d])','') \n",
    "data['preticket'] = data['preticket'].str.replace('(?<![\\w\\d])scow(?![\\w\\d])','') \n",
    "data['preticket'] = data['preticket'].str.replace('(?<![\\w\\d])fa(?![\\w\\d])','') \n",
    "data['preticket'] = data['preticket'].str.replace('(?<![\\w\\d])fc(?![\\w\\d])','') \n",
    "data['preticket'] = data['preticket'].str.replace('(?<![\\w\\d])scah(?![\\w\\d])','') \n",
    "\n",
    "data['preticket'] = data['preticket'].str.replace('(?<![\\w\\d])swpp(?![\\w\\d])','') \n",
    "data['preticket'] = data['preticket'].str.replace('(?<![\\w\\d])ppp(?![\\w\\d])','') \n",
    "data['preticket'] = data['preticket'].str.replace('(?<![\\w\\d])sotono(?![\\w\\d])','') \n",
    "data['preticket'] = data['preticket'].str.replace('(?<![\\w\\d])sopp(?![\\w\\d])','') \n",
    "data['preticket'] = data['preticket'].str.replace('(?<![\\w\\d])wep(?![\\w\\d])','') \n",
    "data['preticket'] = data['preticket'].str.replace('(?<![\\w\\d])line(?![\\w\\d])','') \n",
    "data['preticket'] = data['preticket'].str.replace('(?<![\\w\\d])fcc(?![\\w\\d])','') \n",
    "\n",
    "data['preticket'] = data['preticket'].str.replace('(?<![\\w\\d])c(?![\\w\\d])','')\n",
    "data['preticket'] = data['preticket'].str.replace('(?<![\\w\\d])soc(?![\\w\\d])','') \n",
    "data['preticket'] = data['preticket'].str.replace('(?<![\\w\\d])sc(?![\\w\\d])','')\n",
    "data['preticket'] = data['preticket'].str.replace('(?<![\\w\\d])pp(?![\\w\\d])','') "
   ]
  },
  {
   "cell_type": "code",
   "execution_count": 409,
   "metadata": {},
   "outputs": [],
   "source": [
    "# Define to ensure that we have the same groups through the analysis\n",
    "def findpreticket(name):\n",
    "    match = ['pc','ca', 'a', 'stono', 'sotonoq', 'scparis', 'wc']\n",
    "    if name in match:\n",
    "        return name\n",
    "    else:\n",
    "        return \" \"\n",
    "data['preticket'] = data['preticket'].apply(findpreticket)"
   ]
  },
  {
   "cell_type": "code",
   "execution_count": 410,
   "metadata": {},
   "outputs": [
    {
     "data": {
      "text/plain": [
       "           708\n",
       "pc          60\n",
       "ca          41\n",
       "a           28\n",
       "stono       18\n",
       "sotonoq     15\n",
       "scparis     11\n",
       "wc          10\n",
       "Name: preticket, dtype: int64"
      ]
     },
     "execution_count": 410,
     "metadata": {},
     "output_type": "execute_result"
    }
   ],
   "source": [
    "data.preticket.value_counts()\n",
    "# Checking again, we now only have groups with at least 10 members, which seems reasonable for predictions"
   ]
  },
  {
   "cell_type": "code",
   "execution_count": 411,
   "metadata": {},
   "outputs": [
    {
     "data": {
      "text/html": [
       "<div>\n",
       "<style scoped>\n",
       "    .dataframe tbody tr th:only-of-type {\n",
       "        vertical-align: middle;\n",
       "    }\n",
       "\n",
       "    .dataframe tbody tr th {\n",
       "        vertical-align: top;\n",
       "    }\n",
       "\n",
       "    .dataframe thead th {\n",
       "        text-align: right;\n",
       "    }\n",
       "</style>\n",
       "<table border=\"1\" class=\"dataframe\">\n",
       "  <thead>\n",
       "    <tr style=\"text-align: right;\">\n",
       "      <th></th>\n",
       "      <th>Pclass</th>\n",
       "      <th>Age</th>\n",
       "      <th>SibSp</th>\n",
       "      <th>Parch</th>\n",
       "      <th>Fare</th>\n",
       "      <th>Survival</th>\n",
       "      <th>Cabnum</th>\n",
       "    </tr>\n",
       "    <tr>\n",
       "      <th>preticket</th>\n",
       "      <th></th>\n",
       "      <th></th>\n",
       "      <th></th>\n",
       "      <th></th>\n",
       "      <th></th>\n",
       "      <th></th>\n",
       "      <th></th>\n",
       "    </tr>\n",
       "  </thead>\n",
       "  <tbody>\n",
       "    <tr>\n",
       "      <th></th>\n",
       "      <td>2.346045</td>\n",
       "      <td>29.575656</td>\n",
       "      <td>0.461864</td>\n",
       "      <td>0.354520</td>\n",
       "      <td>26.875111</td>\n",
       "      <td>0.382768</td>\n",
       "      <td>49.180645</td>\n",
       "    </tr>\n",
       "    <tr>\n",
       "      <th>a</th>\n",
       "      <td>3.000000</td>\n",
       "      <td>29.369565</td>\n",
       "      <td>0.214286</td>\n",
       "      <td>0.071429</td>\n",
       "      <td>10.044046</td>\n",
       "      <td>0.071429</td>\n",
       "      <td>NaN</td>\n",
       "    </tr>\n",
       "    <tr>\n",
       "      <th>ca</th>\n",
       "      <td>2.536585</td>\n",
       "      <td>25.090909</td>\n",
       "      <td>2.317073</td>\n",
       "      <td>1.219512</td>\n",
       "      <td>30.991463</td>\n",
       "      <td>0.341463</td>\n",
       "      <td>33.000000</td>\n",
       "    </tr>\n",
       "    <tr>\n",
       "      <th>pc</th>\n",
       "      <td>1.000000</td>\n",
       "      <td>37.120000</td>\n",
       "      <td>0.333333</td>\n",
       "      <td>0.233333</td>\n",
       "      <td>122.080483</td>\n",
       "      <td>0.650000</td>\n",
       "      <td>57.119048</td>\n",
       "    </tr>\n",
       "    <tr>\n",
       "      <th>scparis</th>\n",
       "      <td>2.000000</td>\n",
       "      <td>21.888889</td>\n",
       "      <td>0.545455</td>\n",
       "      <td>0.818182</td>\n",
       "      <td>27.014400</td>\n",
       "      <td>0.454545</td>\n",
       "      <td>NaN</td>\n",
       "    </tr>\n",
       "    <tr>\n",
       "      <th>sotonoq</th>\n",
       "      <td>3.000000</td>\n",
       "      <td>26.600000</td>\n",
       "      <td>0.000000</td>\n",
       "      <td>0.000000</td>\n",
       "      <td>7.530000</td>\n",
       "      <td>0.133333</td>\n",
       "      <td>10.000000</td>\n",
       "    </tr>\n",
       "    <tr>\n",
       "      <th>stono</th>\n",
       "      <td>3.000000</td>\n",
       "      <td>27.722222</td>\n",
       "      <td>0.222222</td>\n",
       "      <td>0.000000</td>\n",
       "      <td>8.672222</td>\n",
       "      <td>0.444444</td>\n",
       "      <td>NaN</td>\n",
       "    </tr>\n",
       "    <tr>\n",
       "      <th>wc</th>\n",
       "      <td>2.700000</td>\n",
       "      <td>29.000000</td>\n",
       "      <td>0.800000</td>\n",
       "      <td>1.400000</td>\n",
       "      <td>22.345000</td>\n",
       "      <td>0.100000</td>\n",
       "      <td>NaN</td>\n",
       "    </tr>\n",
       "  </tbody>\n",
       "</table>\n",
       "</div>"
      ],
      "text/plain": [
       "             Pclass        Age     SibSp     Parch        Fare  Survival  \\\n",
       "preticket                                                                  \n",
       "           2.346045  29.575656  0.461864  0.354520   26.875111  0.382768   \n",
       "a          3.000000  29.369565  0.214286  0.071429   10.044046  0.071429   \n",
       "ca         2.536585  25.090909  2.317073  1.219512   30.991463  0.341463   \n",
       "pc         1.000000  37.120000  0.333333  0.233333  122.080483  0.650000   \n",
       "scparis    2.000000  21.888889  0.545455  0.818182   27.014400  0.454545   \n",
       "sotonoq    3.000000  26.600000  0.000000  0.000000    7.530000  0.133333   \n",
       "stono      3.000000  27.722222  0.222222  0.000000    8.672222  0.444444   \n",
       "wc         2.700000  29.000000  0.800000  1.400000   22.345000  0.100000   \n",
       "\n",
       "              Cabnum  \n",
       "preticket             \n",
       "           49.180645  \n",
       "a                NaN  \n",
       "ca         33.000000  \n",
       "pc         57.119048  \n",
       "scparis          NaN  \n",
       "sotonoq    10.000000  \n",
       "stono            NaN  \n",
       "wc               NaN  "
      ]
     },
     "execution_count": 411,
     "metadata": {},
     "output_type": "execute_result"
    }
   ],
   "source": [
    "# Looking at other variables combined with these metrics...\n",
    "data.groupby('preticket').mean()"
   ]
  },
  {
   "cell_type": "markdown",
   "metadata": {},
   "source": [
    "#### Looking at these variables, it seems there is some predictive power in the tickets... for example, \"a\" only has a 7% survival rate among 28 members. The empty group has similar survival to the overall population. 'ca' seems to have larger family sizes possibly indicating something about what the ticket represents etc. In general this seems to be another class indicator in our data. "
   ]
  },
  {
   "cell_type": "markdown",
   "metadata": {},
   "source": [
    "#### Next I'll look at the name columns. Specifically, we're interested in pulling titles from each of the names such as Mr., Mrs., Miss, etc. to try to generate value from each name. "
   ]
  },
  {
   "cell_type": "code",
   "execution_count": 412,
   "metadata": {},
   "outputs": [],
   "source": [
    "def findTitle(name):\n",
    "    match = re.search(\"(Dr|Mrs?|Ms|Miss|Master|Rev|Mlle|Col|Mme)\\\\.\",name)\n",
    "    if match:\n",
    "        title = match.group(0)\n",
    "        if (title == 'Don.' or title == 'Major.' or title == 'Capt.' or title == 'Col.'):\n",
    "            title = 'Sir.'\n",
    "        if (title == 'Mlle.' or title == 'Mme.' or title == 'Lady' or title =='Ms.'):\n",
    "            title = 'Miss.'\n",
    "        return title\n",
    "    \n",
    "    else:\n",
    "        return \"Other\"\n",
    "\n",
    "data['Title'] = data['Name'].apply(findTitle)"
   ]
  },
  {
   "cell_type": "code",
   "execution_count": 413,
   "metadata": {},
   "outputs": [
    {
     "data": {
      "text/html": [
       "<div>\n",
       "<style scoped>\n",
       "    .dataframe tbody tr th:only-of-type {\n",
       "        vertical-align: middle;\n",
       "    }\n",
       "\n",
       "    .dataframe tbody tr th {\n",
       "        vertical-align: top;\n",
       "    }\n",
       "\n",
       "    .dataframe thead th {\n",
       "        text-align: right;\n",
       "    }\n",
       "</style>\n",
       "<table border=\"1\" class=\"dataframe\">\n",
       "  <thead>\n",
       "    <tr style=\"text-align: right;\">\n",
       "      <th></th>\n",
       "      <th>Pclass</th>\n",
       "      <th>Age</th>\n",
       "      <th>SibSp</th>\n",
       "      <th>Parch</th>\n",
       "      <th>Fare</th>\n",
       "      <th>Survival</th>\n",
       "      <th>Cabnum</th>\n",
       "    </tr>\n",
       "    <tr>\n",
       "      <th>Title</th>\n",
       "      <th></th>\n",
       "      <th></th>\n",
       "      <th></th>\n",
       "      <th></th>\n",
       "      <th></th>\n",
       "      <th></th>\n",
       "      <th></th>\n",
       "    </tr>\n",
       "  </thead>\n",
       "  <tbody>\n",
       "    <tr>\n",
       "      <th>Dr.</th>\n",
       "      <td>1.285714</td>\n",
       "      <td>42.000000</td>\n",
       "      <td>0.571429</td>\n",
       "      <td>0.000000</td>\n",
       "      <td>49.168457</td>\n",
       "      <td>0.428571</td>\n",
       "      <td>48.333333</td>\n",
       "    </tr>\n",
       "    <tr>\n",
       "      <th>Master.</th>\n",
       "      <td>2.625000</td>\n",
       "      <td>4.574167</td>\n",
       "      <td>2.300000</td>\n",
       "      <td>1.375000</td>\n",
       "      <td>34.703125</td>\n",
       "      <td>0.575000</td>\n",
       "      <td>40.142857</td>\n",
       "    </tr>\n",
       "    <tr>\n",
       "      <th>Miss.</th>\n",
       "      <td>2.284946</td>\n",
       "      <td>21.860000</td>\n",
       "      <td>0.698925</td>\n",
       "      <td>0.537634</td>\n",
       "      <td>43.937188</td>\n",
       "      <td>0.704301</td>\n",
       "      <td>46.860000</td>\n",
       "    </tr>\n",
       "    <tr>\n",
       "      <th>Mr.</th>\n",
       "      <td>2.410058</td>\n",
       "      <td>32.368090</td>\n",
       "      <td>0.288201</td>\n",
       "      <td>0.152805</td>\n",
       "      <td>24.441560</td>\n",
       "      <td>0.156673</td>\n",
       "      <td>53.516484</td>\n",
       "    </tr>\n",
       "    <tr>\n",
       "      <th>Mrs.</th>\n",
       "      <td>2.000000</td>\n",
       "      <td>35.898148</td>\n",
       "      <td>0.696000</td>\n",
       "      <td>0.832000</td>\n",
       "      <td>45.138533</td>\n",
       "      <td>0.792000</td>\n",
       "      <td>51.333333</td>\n",
       "    </tr>\n",
       "    <tr>\n",
       "      <th>Other</th>\n",
       "      <td>1.000000</td>\n",
       "      <td>46.875000</td>\n",
       "      <td>0.375000</td>\n",
       "      <td>0.125000</td>\n",
       "      <td>42.350000</td>\n",
       "      <td>0.500000</td>\n",
       "      <td>46.166667</td>\n",
       "    </tr>\n",
       "    <tr>\n",
       "      <th>Rev.</th>\n",
       "      <td>2.000000</td>\n",
       "      <td>43.166667</td>\n",
       "      <td>0.166667</td>\n",
       "      <td>0.166667</td>\n",
       "      <td>18.312500</td>\n",
       "      <td>0.000000</td>\n",
       "      <td>NaN</td>\n",
       "    </tr>\n",
       "    <tr>\n",
       "      <th>Sir.</th>\n",
       "      <td>1.000000</td>\n",
       "      <td>58.000000</td>\n",
       "      <td>0.000000</td>\n",
       "      <td>0.000000</td>\n",
       "      <td>31.025000</td>\n",
       "      <td>0.500000</td>\n",
       "      <td>26.000000</td>\n",
       "    </tr>\n",
       "  </tbody>\n",
       "</table>\n",
       "</div>"
      ],
      "text/plain": [
       "           Pclass        Age     SibSp     Parch       Fare  Survival  \\\n",
       "Title                                                                   \n",
       "Dr.      1.285714  42.000000  0.571429  0.000000  49.168457  0.428571   \n",
       "Master.  2.625000   4.574167  2.300000  1.375000  34.703125  0.575000   \n",
       "Miss.    2.284946  21.860000  0.698925  0.537634  43.937188  0.704301   \n",
       "Mr.      2.410058  32.368090  0.288201  0.152805  24.441560  0.156673   \n",
       "Mrs.     2.000000  35.898148  0.696000  0.832000  45.138533  0.792000   \n",
       "Other    1.000000  46.875000  0.375000  0.125000  42.350000  0.500000   \n",
       "Rev.     2.000000  43.166667  0.166667  0.166667  18.312500  0.000000   \n",
       "Sir.     1.000000  58.000000  0.000000  0.000000  31.025000  0.500000   \n",
       "\n",
       "            Cabnum  \n",
       "Title               \n",
       "Dr.      48.333333  \n",
       "Master.  40.142857  \n",
       "Miss.    46.860000  \n",
       "Mr.      53.516484  \n",
       "Mrs.     51.333333  \n",
       "Other    46.166667  \n",
       "Rev.           NaN  \n",
       "Sir.     26.000000  "
      ]
     },
     "execution_count": 413,
     "metadata": {},
     "output_type": "execute_result"
    }
   ],
   "source": [
    "# Analyzing the benefit of these titles...\n",
    "data.groupby('Title').mean()"
   ]
  },
  {
   "cell_type": "code",
   "execution_count": 414,
   "metadata": {},
   "outputs": [
    {
     "data": {
      "text/plain": [
       "Mr.        517\n",
       "Miss.      186\n",
       "Mrs.       125\n",
       "Master.     40\n",
       "Other        8\n",
       "Dr.          7\n",
       "Rev.         6\n",
       "Sir.         2\n",
       "Name: Title, dtype: int64"
      ]
     },
     "execution_count": 414,
     "metadata": {},
     "output_type": "execute_result"
    }
   ],
   "source": [
    "data.Title.value_counts()"
   ]
  },
  {
   "cell_type": "markdown",
   "metadata": {},
   "source": [
    "#### Titles also show interesting correlation with survival rates.  "
   ]
  },
  {
   "cell_type": "markdown",
   "metadata": {},
   "source": [
    "#### Next, lets look at correlation of the data we have to this point:"
   ]
  },
  {
   "cell_type": "code",
   "execution_count": 415,
   "metadata": {
    "scrolled": false
   },
   "outputs": [
    {
     "data": {
      "image/png": "[encoded data removed]",
      "text/plain": [
       "<Figure size 720x720 with 1 Axes>"
      ]
     },
     "metadata": {},
     "output_type": "display_data"
    }
   ],
   "source": [
    "def plot_corr(df,size=10):\n",
    "    '''Function plots a graphical correlation matrix for each pair of columns in the dataframe.\n",
    "\n",
    "    Input:\n",
    "        df: pandas DataFrame\n",
    "        size: vertical and horizontal size of the plot'''\n",
    "\n",
    "    corr = df.corr()\n",
    "    fig, ax = plt.subplots(figsize=(size, size))\n",
    "    ax.matshow(corr)\n",
    "    plt.xticks(range(len(corr.columns)), corr.columns);\n",
    "    plt.yticks(range(len(corr.columns)), corr.columns);\n",
    "\n",
    "plot_corr(data)"
   ]
  },
  {
   "cell_type": "code",
   "execution_count": 416,
   "metadata": {},
   "outputs": [
    {
     "data": {
      "text/html": [
       "<div>\n",
       "<style scoped>\n",
       "    .dataframe tbody tr th:only-of-type {\n",
       "        vertical-align: middle;\n",
       "    }\n",
       "\n",
       "    .dataframe tbody tr th {\n",
       "        vertical-align: top;\n",
       "    }\n",
       "\n",
       "    .dataframe thead th {\n",
       "        text-align: right;\n",
       "    }\n",
       "</style>\n",
       "<table border=\"1\" class=\"dataframe\">\n",
       "  <thead>\n",
       "    <tr style=\"text-align: right;\">\n",
       "      <th></th>\n",
       "      <th>Pclass</th>\n",
       "      <th>Age</th>\n",
       "      <th>SibSp</th>\n",
       "      <th>Parch</th>\n",
       "      <th>Fare</th>\n",
       "      <th>Survival</th>\n",
       "      <th>Cabnum</th>\n",
       "    </tr>\n",
       "  </thead>\n",
       "  <tbody>\n",
       "    <tr>\n",
       "      <th>Pclass</th>\n",
       "      <td>1.000000</td>\n",
       "      <td>-0.369226</td>\n",
       "      <td>0.083081</td>\n",
       "      <td>0.018443</td>\n",
       "      <td>-0.549500</td>\n",
       "      <td>-0.338481</td>\n",
       "      <td>-0.036776</td>\n",
       "    </tr>\n",
       "    <tr>\n",
       "      <th>Age</th>\n",
       "      <td>-0.369226</td>\n",
       "      <td>1.000000</td>\n",
       "      <td>-0.308247</td>\n",
       "      <td>-0.189119</td>\n",
       "      <td>0.096067</td>\n",
       "      <td>-0.077221</td>\n",
       "      <td>0.066266</td>\n",
       "    </tr>\n",
       "    <tr>\n",
       "      <th>SibSp</th>\n",
       "      <td>0.083081</td>\n",
       "      <td>-0.308247</td>\n",
       "      <td>1.000000</td>\n",
       "      <td>0.414838</td>\n",
       "      <td>0.159651</td>\n",
       "      <td>-0.035322</td>\n",
       "      <td>-0.064264</td>\n",
       "    </tr>\n",
       "    <tr>\n",
       "      <th>Parch</th>\n",
       "      <td>0.018443</td>\n",
       "      <td>-0.189119</td>\n",
       "      <td>0.414838</td>\n",
       "      <td>1.000000</td>\n",
       "      <td>0.216225</td>\n",
       "      <td>0.081629</td>\n",
       "      <td>-0.117619</td>\n",
       "    </tr>\n",
       "    <tr>\n",
       "      <th>Fare</th>\n",
       "      <td>-0.549500</td>\n",
       "      <td>0.096067</td>\n",
       "      <td>0.159651</td>\n",
       "      <td>0.216225</td>\n",
       "      <td>1.000000</td>\n",
       "      <td>0.257307</td>\n",
       "      <td>0.052416</td>\n",
       "    </tr>\n",
       "    <tr>\n",
       "      <th>Survival</th>\n",
       "      <td>-0.338481</td>\n",
       "      <td>-0.077221</td>\n",
       "      <td>-0.035322</td>\n",
       "      <td>0.081629</td>\n",
       "      <td>0.257307</td>\n",
       "      <td>1.000000</td>\n",
       "      <td>-0.063747</td>\n",
       "    </tr>\n",
       "    <tr>\n",
       "      <th>Cabnum</th>\n",
       "      <td>-0.036776</td>\n",
       "      <td>0.066266</td>\n",
       "      <td>-0.064264</td>\n",
       "      <td>-0.117619</td>\n",
       "      <td>0.052416</td>\n",
       "      <td>-0.063747</td>\n",
       "      <td>1.000000</td>\n",
       "    </tr>\n",
       "  </tbody>\n",
       "</table>\n",
       "</div>"
      ],
      "text/plain": [
       "            Pclass       Age     SibSp     Parch      Fare  Survival    Cabnum\n",
       "Pclass    1.000000 -0.369226  0.083081  0.018443 -0.549500 -0.338481 -0.036776\n",
       "Age      -0.369226  1.000000 -0.308247 -0.189119  0.096067 -0.077221  0.066266\n",
       "SibSp     0.083081 -0.308247  1.000000  0.414838  0.159651 -0.035322 -0.064264\n",
       "Parch     0.018443 -0.189119  0.414838  1.000000  0.216225  0.081629 -0.117619\n",
       "Fare     -0.549500  0.096067  0.159651  0.216225  1.000000  0.257307  0.052416\n",
       "Survival -0.338481 -0.077221 -0.035322  0.081629  0.257307  1.000000 -0.063747\n",
       "Cabnum   -0.036776  0.066266 -0.064264 -0.117619  0.052416 -0.063747  1.000000"
      ]
     },
     "execution_count": 416,
     "metadata": {},
     "output_type": "execute_result"
    }
   ],
   "source": [
    "data.corr()"
   ]
  },
  {
   "cell_type": "code",
   "execution_count": 417,
   "metadata": {},
   "outputs": [
    {
     "data": {
      "text/plain": [
       "<matplotlib.axes._subplots.AxesSubplot at 0x12908ffd0>"
      ]
     },
     "execution_count": 417,
     "metadata": {},
     "output_type": "execute_result"
    },
    {
     "data": {
      "image/png": "[encoded data removed]",
      "text/plain": [
       "<Figure size 432x288 with 1 Axes>"
      ]
     },
     "metadata": {},
     "output_type": "display_data"
    }
   ],
   "source": [
    "# Why poor correlation between some variables? \n",
    "data.plot.scatter('Pclass','Age')"
   ]
  },
  {
   "cell_type": "code",
   "execution_count": 418,
   "metadata": {},
   "outputs": [
    {
     "data": {
      "text/plain": [
       "<matplotlib.axes._subplots.AxesSubplot at 0x1290f43d0>"
      ]
     },
     "execution_count": 418,
     "metadata": {},
     "output_type": "execute_result"
    },
    {
     "data": {
      "image/png": "[encoded data removed]",
      "text/plain": [
       "<Figure size 432x288 with 1 Axes>"
      ]
     },
     "metadata": {},
     "output_type": "display_data"
    }
   ],
   "source": [
    "data.plot.scatter('Pclass','Fare')"
   ]
  },
  {
   "cell_type": "code",
   "execution_count": 419,
   "metadata": {},
   "outputs": [
    {
     "data": {
      "text/plain": [
       "<matplotlib.axes._subplots.AxesSubplot at 0x12924c790>"
      ]
     },
     "execution_count": 419,
     "metadata": {},
     "output_type": "execute_result"
    },
    {
     "data": {
      "image/png": "[encoded data removed]",
      "text/plain": [
       "<Figure size 432x288 with 1 Axes>"
      ]
     },
     "metadata": {},
     "output_type": "display_data"
    }
   ],
   "source": [
    "data.plot.scatter('Survival','Fare')"
   ]
  },
  {
   "cell_type": "code",
   "execution_count": 420,
   "metadata": {},
   "outputs": [
    {
     "data": {
      "text/plain": [
       "<matplotlib.axes._subplots.AxesSubplot at 0x12911d050>"
      ]
     },
     "execution_count": 420,
     "metadata": {},
     "output_type": "execute_result"
    },
    {
     "data": {
      "image/png": "[encoded data removed]",
      "text/plain": [
       "<Figure size 432x288 with 1 Axes>"
      ]
     },
     "metadata": {},
     "output_type": "display_data"
    }
   ],
   "source": [
    "data.plot.scatter('Parch','SibSp')"
   ]
  },
  {
   "cell_type": "markdown",
   "metadata": {},
   "source": [
    "#### So highest correlation occurs between Parch and SibSp... a new metric for family size may be beneficial here."
   ]
  },
  {
   "cell_type": "markdown",
   "metadata": {},
   "source": [
    "### Feature Engineering"
   ]
  },
  {
   "cell_type": "markdown",
   "metadata": {},
   "source": [
    "#### Here we are interested in generating additional features/ ways of showing data to our algorithms. We'll create a couple of additional features which may be informative to try in our models downstream of here..."
   ]
  },
  {
   "cell_type": "markdown",
   "metadata": {},
   "source": [
    "#### Feature 1: Child or not. Our distribution of data by age showed a possible group of children which we can define as a new binary feature. "
   ]
  },
  {
   "cell_type": "code",
   "execution_count": 421,
   "metadata": {},
   "outputs": [],
   "source": [
    "# If child feature\n",
    "child =[]\n",
    "for row in range(len(data)):\n",
    "    if data['Age'].iloc[row] < 16:\n",
    "        child.append(1)\n",
    "    else: \n",
    "        child.append(0)\n",
    "\n",
    "child = pd.Series(child)\n",
    "data['Child'] = child\n",
    "\n",
    "# If parentless child feature\n",
    "parentless = []\n",
    "\n",
    "for row in range(len(data)):\n",
    "    if data['Child'].iloc[row] ==1 and data['Parch'].iloc[row] == 0:\n",
    "        parentless.append(1)\n",
    "    else: \n",
    "        parentless.append(0)\n",
    "        \n",
    "parentless = pd.Series(parentless)\n",
    "data['Parentless'] = parentless"
   ]
  },
  {
   "cell_type": "code",
   "execution_count": 422,
   "metadata": {},
   "outputs": [
    {
     "data": {
      "text/plain": [
       "0    808\n",
       "1     83\n",
       "Name: Child, dtype: int64"
      ]
     },
     "execution_count": 422,
     "metadata": {},
     "output_type": "execute_result"
    }
   ],
   "source": [
    "data.Child.value_counts()"
   ]
  },
  {
   "cell_type": "code",
   "execution_count": 423,
   "metadata": {},
   "outputs": [
    {
     "data": {
      "text/plain": [
       "0    880\n",
       "1     11\n",
       "Name: Parentless, dtype: int64"
      ]
     },
     "execution_count": 423,
     "metadata": {},
     "output_type": "execute_result"
    }
   ],
   "source": [
    "data.Parentless.value_counts()"
   ]
  },
  {
   "cell_type": "markdown",
   "metadata": {},
   "source": [
    "#### So we have found 83 children onboard, 11 of which were not with a parent"
   ]
  },
  {
   "cell_type": "code",
   "execution_count": 424,
   "metadata": {},
   "outputs": [
    {
     "data": {
      "text/html": [
       "<div>\n",
       "<style scoped>\n",
       "    .dataframe tbody tr th:only-of-type {\n",
       "        vertical-align: middle;\n",
       "    }\n",
       "\n",
       "    .dataframe tbody tr th {\n",
       "        vertical-align: top;\n",
       "    }\n",
       "\n",
       "    .dataframe thead th {\n",
       "        text-align: right;\n",
       "    }\n",
       "</style>\n",
       "<table border=\"1\" class=\"dataframe\">\n",
       "  <thead>\n",
       "    <tr style=\"text-align: right;\">\n",
       "      <th></th>\n",
       "      <th>Pclass</th>\n",
       "      <th>Age</th>\n",
       "      <th>SibSp</th>\n",
       "      <th>Parch</th>\n",
       "      <th>Fare</th>\n",
       "      <th>Survival</th>\n",
       "      <th>Cabnum</th>\n",
       "      <th>Parentless</th>\n",
       "    </tr>\n",
       "    <tr>\n",
       "      <th>Child</th>\n",
       "      <th></th>\n",
       "      <th></th>\n",
       "      <th></th>\n",
       "      <th></th>\n",
       "      <th></th>\n",
       "      <th></th>\n",
       "      <th></th>\n",
       "      <th></th>\n",
       "    </tr>\n",
       "  </thead>\n",
       "  <tbody>\n",
       "    <tr>\n",
       "      <th>0</th>\n",
       "      <td>2.275990</td>\n",
       "      <td>32.767829</td>\n",
       "      <td>0.398515</td>\n",
       "      <td>0.290842</td>\n",
       "      <td>32.144466</td>\n",
       "      <td>0.362624</td>\n",
       "      <td>51.754011</td>\n",
       "      <td>0.00000</td>\n",
       "    </tr>\n",
       "    <tr>\n",
       "      <th>1</th>\n",
       "      <td>2.626506</td>\n",
       "      <td>6.369518</td>\n",
       "      <td>1.734940</td>\n",
       "      <td>1.265060</td>\n",
       "      <td>32.785795</td>\n",
       "      <td>0.590361</td>\n",
       "      <td>32.307692</td>\n",
       "      <td>0.13253</td>\n",
       "    </tr>\n",
       "  </tbody>\n",
       "</table>\n",
       "</div>"
      ],
      "text/plain": [
       "         Pclass        Age     SibSp     Parch       Fare  Survival  \\\n",
       "Child                                                                 \n",
       "0      2.275990  32.767829  0.398515  0.290842  32.144466  0.362624   \n",
       "1      2.626506   6.369518  1.734940  1.265060  32.785795  0.590361   \n",
       "\n",
       "          Cabnum  Parentless  \n",
       "Child                         \n",
       "0      51.754011     0.00000  \n",
       "1      32.307692     0.13253  "
      ]
     },
     "execution_count": 424,
     "metadata": {},
     "output_type": "execute_result"
    }
   ],
   "source": [
    "data.groupby('Child').mean()"
   ]
  },
  {
   "cell_type": "code",
   "execution_count": 425,
   "metadata": {},
   "outputs": [
    {
     "data": {
      "text/html": [
       "<div>\n",
       "<style scoped>\n",
       "    .dataframe tbody tr th:only-of-type {\n",
       "        vertical-align: middle;\n",
       "    }\n",
       "\n",
       "    .dataframe tbody tr th {\n",
       "        vertical-align: top;\n",
       "    }\n",
       "\n",
       "    .dataframe thead th {\n",
       "        text-align: right;\n",
       "    }\n",
       "</style>\n",
       "<table border=\"1\" class=\"dataframe\">\n",
       "  <thead>\n",
       "    <tr style=\"text-align: right;\">\n",
       "      <th></th>\n",
       "      <th>Pclass</th>\n",
       "      <th>Age</th>\n",
       "      <th>SibSp</th>\n",
       "      <th>Parch</th>\n",
       "      <th>Fare</th>\n",
       "      <th>Survival</th>\n",
       "      <th>Cabnum</th>\n",
       "      <th>Child</th>\n",
       "    </tr>\n",
       "    <tr>\n",
       "      <th>Parentless</th>\n",
       "      <th></th>\n",
       "      <th></th>\n",
       "      <th></th>\n",
       "      <th></th>\n",
       "      <th></th>\n",
       "      <th></th>\n",
       "      <th></th>\n",
       "      <th></th>\n",
       "    </tr>\n",
       "  </thead>\n",
       "  <tbody>\n",
       "    <tr>\n",
       "      <th>0</th>\n",
       "      <td>2.301136</td>\n",
       "      <td>29.961124</td>\n",
       "      <td>0.523864</td>\n",
       "      <td>0.386364</td>\n",
       "      <td>32.444189</td>\n",
       "      <td>0.379545</td>\n",
       "      <td>50.49</td>\n",
       "      <td>0.081818</td>\n",
       "    </tr>\n",
       "    <tr>\n",
       "      <th>1</th>\n",
       "      <td>2.909091</td>\n",
       "      <td>12.954545</td>\n",
       "      <td>0.454545</td>\n",
       "      <td>0.000000</td>\n",
       "      <td>13.005700</td>\n",
       "      <td>0.727273</td>\n",
       "      <td>NaN</td>\n",
       "      <td>1.000000</td>\n",
       "    </tr>\n",
       "  </tbody>\n",
       "</table>\n",
       "</div>"
      ],
      "text/plain": [
       "              Pclass        Age     SibSp     Parch       Fare  Survival  \\\n",
       "Parentless                                                                 \n",
       "0           2.301136  29.961124  0.523864  0.386364  32.444189  0.379545   \n",
       "1           2.909091  12.954545  0.454545  0.000000  13.005700  0.727273   \n",
       "\n",
       "            Cabnum     Child  \n",
       "Parentless                    \n",
       "0            50.49  0.081818  \n",
       "1              NaN  1.000000  "
      ]
     },
     "execution_count": 425,
     "metadata": {},
     "output_type": "execute_result"
    }
   ],
   "source": [
    "data.groupby('Parentless').mean()"
   ]
  },
  {
   "cell_type": "markdown",
   "metadata": {},
   "source": [
    "#### So here we have found with these features that parentless children were actually more likely to survive than the average child, which may be a helpful feature..."
   ]
  },
  {
   "cell_type": "code",
   "execution_count": 426,
   "metadata": {},
   "outputs": [],
   "source": [
    "#### Next we'll look at family sizes\n",
    "data['FamilySize'] = data.SibSp.values + data.Parch.values + 1"
   ]
  },
  {
   "cell_type": "code",
   "execution_count": 427,
   "metadata": {},
   "outputs": [
    {
     "data": {
      "text/plain": [
       "<matplotlib.axes._subplots.AxesSubplot at 0x127417f90>"
      ]
     },
     "execution_count": 427,
     "metadata": {},
     "output_type": "execute_result"
    },
    {
     "data": {
      "image/png": "[encoded data removed]",
      "text/plain": [
       "<Figure size 432x288 with 1 Axes>"
      ]
     },
     "metadata": {},
     "output_type": "display_data"
    }
   ],
   "source": [
    "data.plot.scatter('Survival','FamilySize')"
   ]
  },
  {
   "cell_type": "markdown",
   "metadata": {},
   "source": [
    "#### So family size might provide some value..."
   ]
  },
  {
   "cell_type": "markdown",
   "metadata": {},
   "source": [
    "### Generating a model"
   ]
  },
  {
   "cell_type": "markdown",
   "metadata": {},
   "source": [
    "#### First we'll create a baseline Random Forest model using only the data given to us without additional feature engineering."
   ]
  },
  {
   "cell_type": "code",
   "execution_count": 428,
   "metadata": {},
   "outputs": [],
   "source": [
    "# Generate numeric basemodel dataset\n",
    "basemodel_data = raw_data.copy(deep = False)\n",
    "del basemodel_data['PassengerId']\n",
    "del basemodel_data['Name']\n",
    "del basemodel_data['Ticket']\n",
    "del basemodel_data['Cabin']\n",
    "\n",
    "base_outcome = basemodel_data['Survived']\n",
    "del basemodel_data['Survived']\n",
    "\n",
    "basemodel_data = pd.get_dummies(basemodel_data, columns=['Sex', 'Embarked'])"
   ]
  },
  {
   "cell_type": "code",
   "execution_count": 429,
   "metadata": {},
   "outputs": [],
   "source": [
    "# Impute missing values using simple mean\n",
    "from sklearn.preprocessing import Imputer\n",
    "imp_base = Imputer(missing_values='NaN', strategy='mean', axis=0)\n",
    "imp_base.fit(basemodel_data)\n",
    "basemodel_data = imp_base.transform(basemodel_data)"
   ]
  },
  {
   "cell_type": "code",
   "execution_count": 430,
   "metadata": {},
   "outputs": [
    {
     "data": {
      "text/plain": [
       "0.7910447761194029"
      ]
     },
     "execution_count": 430,
     "metadata": {},
     "output_type": "execute_result"
    }
   ],
   "source": [
    "# Create Random Forest model and test\n",
    "from sklearn.model_selection import train_test_split\n",
    "from sklearn.ensemble import RandomForestClassifier\n",
    "\n",
    "X_train, X_test, y_train, y_test = train_test_split(basemodel_data, base_outcome, test_size=0.15, random_state=0)\n",
    "base_model_rf = RandomForestClassifier(random_state=0)\n",
    "base_model_rf.fit(X_train, y_train)\n",
    "base_model_rf.score(X_test, y_test)"
   ]
  },
  {
   "cell_type": "code",
   "execution_count": 431,
   "metadata": {},
   "outputs": [
    {
     "data": {
      "text/plain": [
       "0.8283582089552238"
      ]
     },
     "execution_count": 431,
     "metadata": {},
     "output_type": "execute_result"
    }
   ],
   "source": [
    "# Create an XGboost model and test\n",
    "from sklearn.model_selection import train_test_split\n",
    "from sklearn.ensemble import GradientBoostingClassifier\n",
    "\n",
    "base_model_XG = GradientBoostingClassifier(random_state=0)\n",
    "base_model_XG.fit(X_train, y_train)\n",
    "base_model_XG.score(X_test, y_test)"
   ]
  },
  {
   "cell_type": "markdown",
   "metadata": {},
   "source": [
    "#### So in the base case (without any sort of cross validation) Random Forest and XGBoost have accuracy levels of 0.79 and 0.82. We will work from these values to see if we can increase the scores. "
   ]
  },
  {
   "cell_type": "code",
   "execution_count": 432,
   "metadata": {},
   "outputs": [],
   "source": [
    "# Generate Data Set\n",
    "alt_data = data.copy(deep = False)\n",
    "del alt_data['Ticket']\n",
    "del alt_data['Name']\n",
    "del alt_data['Cabin']\n",
    "del alt_data['Cabnum']\n",
    "\n",
    "alt_outcome = alt_data['Survival']\n",
    "del alt_data['Survival']\n",
    "\n",
    "alt_data = pd.get_dummies(alt_data, columns=['Sex', 'Embarked','preticket','Title','Deck'])\n",
    "alt_data.head()\n",
    "alt_data.to_csv('Training_Data_prior_names.csv')"
   ]
  },
  {
   "cell_type": "code",
   "execution_count": 433,
   "metadata": {},
   "outputs": [
    {
     "name": "stdout",
     "output_type": "stream",
     "text": [
      "Imputing row 1/891 with 0 missing, elapsed time: 0.170\n",
      "Imputing row 101/891 with 0 missing, elapsed time: 0.172\n",
      "Imputing row 201/891 with 0 missing, elapsed time: 0.173\n",
      "Imputing row 301/891 with 1 missing, elapsed time: 0.173\n",
      "Imputing row 401/891 with 0 missing, elapsed time: 0.174\n",
      "Imputing row 501/891 with 0 missing, elapsed time: 0.175\n",
      "Imputing row 601/891 with 0 missing, elapsed time: 0.176\n",
      "Imputing row 701/891 with 0 missing, elapsed time: 0.177\n",
      "Imputing row 801/891 with 0 missing, elapsed time: 0.178\n"
     ]
    }
   ],
   "source": [
    "# Impute missing values via KNN \n",
    "from fancyimpute import KNN  \n",
    "alt_data = KNN(k=3).complete(alt_data)\n",
    "alt_data = pd.DataFrame(alt_data)"
   ]
  },
  {
   "cell_type": "code",
   "execution_count": 434,
   "metadata": {},
   "outputs": [],
   "source": [
    "## Export to CSV\n",
    "alt_data.to_csv('Training_Data.csv')"
   ]
  },
  {
   "cell_type": "code",
   "execution_count": 435,
   "metadata": {},
   "outputs": [
    {
     "data": {
      "text/plain": [
       "0.7835820895522388"
      ]
     },
     "execution_count": 435,
     "metadata": {},
     "output_type": "execute_result"
    }
   ],
   "source": [
    "X_train, X_test, y_train, y_test = train_test_split(alt_data, alt_outcome, test_size=0.15, random_state=0)\n",
    "alt_model_rf = RandomForestClassifier(random_state=0)\n",
    "alt_model_rf.fit(X_train, y_train)\n",
    "alt_model_rf.score(X_test, y_test)"
   ]
  },
  {
   "cell_type": "code",
   "execution_count": 436,
   "metadata": {},
   "outputs": [
    {
     "data": {
      "text/plain": [
       "0.8059701492537313"
      ]
     },
     "execution_count": 436,
     "metadata": {},
     "output_type": "execute_result"
    }
   ],
   "source": [
    "alt_model_XG = GradientBoostingClassifier(random_state=0)\n",
    "alt_model_XG.fit(X_train, y_train)\n",
    "alt_model_XG.score(X_test, y_test)"
   ]
  },
  {
   "cell_type": "markdown",
   "metadata": {},
   "source": [
    "#### So our model got slightly worse with the introduction of the additional features. We will next try to improve on this via feature selction in a hyperparameter optimization"
   ]
  },
  {
   "cell_type": "code",
   "execution_count": 437,
   "metadata": {},
   "outputs": [
    {
     "data": {
      "image/png": "[encoded data removed]",
      "text/plain": [
       "<Figure size 432x288 with 1 Axes>"
      ]
     },
     "metadata": {},
     "output_type": "display_data"
    }
   ],
   "source": [
    "# Analyze number of features for Random Forest classifier using cross validation\n",
    "from sklearn.ensemble import RandomForestClassifier\n",
    "from sklearn.feature_selection import RFECV\n",
    "from sklearn.model_selection import StratifiedKFold\n",
    "\n",
    "alt_model_rf = RandomForestClassifier(random_state=0)\n",
    "alt_model_rf.fit(X_train, y_train)\n",
    "alt_model_rf.score(X_test, y_test)\n",
    "\n",
    "# Find optimal number of features\n",
    "slr = RFECV(alt_model_rf, step=1, cv=StratifiedKFold(4), scoring = 'accuracy')\n",
    "slr.fit(X_train,y_train)\n",
    "    \n",
    "# Plot Results\n",
    "plt.figure()\n",
    "plt.xlabel(\"Number of features selected\")\n",
    "plt.ylabel(\"Cross validation score (nb of correct classifications)\")\n",
    "plt.plot(range(1, len(slr.grid_scores_) + 1), slr.grid_scores_)\n",
    "plt.show()"
   ]
  },
  {
   "cell_type": "markdown",
   "metadata": {},
   "source": [
    "#### So there is a general cutoff of the top number of features involved here, we can do additional hyperparameter optimization to determine best fit scenarios for both the random forest and XGboost algorithms:"
   ]
  },
  {
   "cell_type": "code",
   "execution_count": 438,
   "metadata": {},
   "outputs": [
    {
     "name": "stdout",
     "output_type": "stream",
     "text": [
      "0.8283582089552238\n",
      "7\n"
     ]
    }
   ],
   "source": [
    "# Hyperparameter optimization of Random Forest Algorithm \n",
    "from sklearn.model_selection import RandomizedSearchCV, cross_val_score\n",
    "from scipy.stats import uniform as sp_rand\n",
    "from sklearn.model_selection import StratifiedKFold\n",
    "\n",
    "param_grid = {\"max_depth\": [8, 6, 3, 1, None],\n",
    "              \"max_features\": [1, 2, 3, 4, 5, 6, 7, 8, 9, 11, 13, 15, None],\n",
    "              \"min_samples_split\": [2, 3, 4, 5, 6, 7, 8, 10],\n",
    "              \"min_samples_leaf\": [1, 3, 5, 7, 9, 10],\n",
    "              \"bootstrap\": [True, False],\n",
    "              \"criterion\": [\"gini\", \"entropy\"]}\n",
    "grid = RandomizedSearchCV(estimator=alt_model_rf, param_distributions=param_grid, n_iter=100, cv=StratifiedKFold(4))\n",
    "grid.fit(X_test, y_test)\n",
    "print(grid.best_score_)\n",
    "print(grid.best_estimator_.max_features)"
   ]
  },
  {
   "cell_type": "code",
   "execution_count": 439,
   "metadata": {},
   "outputs": [
    {
     "name": "stdout",
     "output_type": "stream",
     "text": [
      "0.835820895522388\n",
      "7\n"
     ]
    }
   ],
   "source": [
    "# Hyperparameter optimization of XGboost\n",
    "param_grid = {\"max_depth\": [8, 6, 3, 1, None],\n",
    "              \"max_features\": [5, 6, 7, 8, 9, 11, 13, 15, None],\n",
    "              \"min_samples_split\": [2, 3, 4, 5, 6, 7, 8, 10],\n",
    "              \"min_samples_leaf\": [1, 3, 5, 7, 9, 10]}\n",
    "grid = RandomizedSearchCV(estimator=alt_model_XG, param_distributions=param_grid, n_iter=100, cv=StratifiedKFold(4))\n",
    "grid.fit(X_test, y_test)\n",
    "print(grid.best_score_)\n",
    "print(grid.best_estimator_.max_features)"
   ]
  },
  {
   "cell_type": "code",
   "execution_count": 440,
   "metadata": {},
   "outputs": [
    {
     "data": {
      "text/plain": [
       "{'max_depth': 3,\n",
       " 'max_features': 7,\n",
       " 'min_samples_leaf': 3,\n",
       " 'min_samples_split': 2}"
      ]
     },
     "execution_count": 440,
     "metadata": {},
     "output_type": "execute_result"
    }
   ],
   "source": [
    "grid.best_params_"
   ]
  },
  {
   "cell_type": "markdown",
   "metadata": {},
   "source": [
    "### Analyze uknown data for Kaggle"
   ]
  },
  {
   "cell_type": "code",
   "execution_count": 448,
   "metadata": {},
   "outputs": [],
   "source": [
    "# Load data\n",
    "final_data = pd.read_csv('/Users/jimmy/Desktop/Titanic/Testing_Data_Corrected.csv')"
   ]
  },
  {
   "cell_type": "code",
   "execution_count": 449,
   "metadata": {},
   "outputs": [],
   "source": [
    "# Predict based on XGBoost\n",
    "answers = pd.Series(grid.predict(final_data))"
   ]
  },
  {
   "cell_type": "code",
   "execution_count": 450,
   "metadata": {},
   "outputs": [],
   "source": [
    "answers.to_csv('Output2.csv')"
   ]
  },
  {
   "cell_type": "code",
   "execution_count": null,
   "metadata": {},
   "outputs": [],
   "source": []
  }
 ],
 "metadata": {
  "kernelspec": {
   "display_name": "Python 2",
   "language": "python",
   "name": "python2"
  },
  "language_info": {
   "codemirror_mode": {
    "name": "ipython",
    "version": 2
   },
   "file_extension": ".py",
   "mimetype": "text/x-python",
   "name": "python",
   "nbconvert_exporter": "python",
   "pygments_lexer": "ipython2",
   "version": "2.7.14"
  }
 },
 "nbformat": 4,
 "nbformat_minor": 2
}
